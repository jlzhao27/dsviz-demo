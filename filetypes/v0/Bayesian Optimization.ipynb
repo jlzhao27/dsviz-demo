{
 "cells": [
  {
   "cell_type": "code",
   "execution_count": 233,
   "metadata": {},
   "outputs": [
    {
     "data": {
      "text/plain": [
       "GaussianProcessRegressor(alpha=1e-07, copy_X_train=True,\n",
       "             kernel=Matern(length_scale=1, nu=2.5), n_restarts_optimizer=2,\n",
       "             normalize_y=False, optimizer='fmin_l_bfgs_b', random_state=2)"
      ]
     },
     "execution_count": 233,
     "metadata": {},
     "output_type": "execute_result"
    }
   ],
   "source": [
    "from sklearn.gaussian_process import GaussianProcessRegressor\n",
    "from sklearn.gaussian_process.kernels import Matern\n",
    "import matplotlib.pyplot as plt\n",
    "from matplotlib import gridspec\n",
    "%matplotlib inline\n",
    "import numpy as np\n",
    "\n",
    "gp = GaussianProcessRegressor(\n",
    "    kernel=Matern(nu=2.5),\n",
    "    n_restarts_optimizer=2,\n",
    "    alpha=0.0000001,\n",
    "    random_state=2)\n",
    "\n",
    "f = lambda x: (x+0.5)**2\n",
    "\n",
    "def rosenbrock(x):\n",
    "    return sum((x[1:] - x[:-1]**2.0)**2.0 + (1 - x[:-1])**2.0)\n",
    "        \n",
    "def target(x):\n",
    "    return np.exp(-(x - 2)**2) + np.exp(-(x - 6)**2/10) + 1/ (x**2 + 1)\n",
    "\n",
    "f = rosenbrock\n",
    "\n",
    "X = np.array([np.random.uniform([2., 2., 2]) for x in range(30)])\n",
    "Y = [f(x) for x in X]\n",
    "Ymean = np.mean(Y)\n",
    "Ystddev = np.std(Y)\n",
    "Ynorm = (Y-Ymean)/Ystddev\n",
    "gp.fit(X, Ynorm)"
   ]
  },
  {
   "cell_type": "code",
   "execution_count": 234,
   "metadata": {
    "scrolled": true
   },
   "outputs": [
    {
     "name": "stdout",
     "output_type": "stream",
     "text": [
      "[ 1.52706054  1.01345289  1.18789701  1.54785226  1.05018462  1.88157127\n",
      "  1.44528268  1.94004975  1.27204518  1.71043269]\n",
      "0.0440970433553\n"
     ]
    },
    {
     "data": {
      "image/png": "[encoded data removed]",
      "text/plain": [
       "<matplotlib.figure.Figure at 0x11c517fd0>"
      ]
     },
     "metadata": {},
     "output_type": "display_data"
    }
   ],
   "source": [
    "\n",
    "\n",
    "x = np.array([np.random.uniform([2., 2., 2.]) for x in range(10)])\n",
    "\n",
    "y_pred, y_std = gp.predict(x, return_std=True)\n",
    "y_f = f(x.T)\n",
    "y_fNorm = (y_f - Ymean)/Ystddev\n",
    "\n",
    "print(x[:,2])\n",
    "#print(np.shape(y_f))\n",
    "plt.plot(x[:,1], y_fNorm, 'bo')\n",
    "plt.plot(x[:,1], y_pred + (10*y_std), 'go')\n",
    "plt.plot(x[:,1], y_pred - (10*y_std), 'go')\n",
    "plt.plot(x[:,1], y_pred, 'ro')\n",
    "\n",
    "print(y_std[1])\n"
   ]
  },
  {
   "cell_type": "code",
   "execution_count": 300,
   "metadata": {},
   "outputs": [
    {
     "data": {
      "text/plain": [
       "[<matplotlib.lines.Line2D at 0x1194e2210>]"
      ]
     },
     "execution_count": 300,
     "metadata": {},
     "output_type": "execute_result"
    },
    {
     "data": {
      "image/png": "[encoded data removed]",
      "text/plain": [
       "<matplotlib.figure.Figure at 0x118fdb790>"
      ]
     },
     "metadata": {},
     "output_type": "display_data"
    }
   ],
   "source": [
    "import math\n",
    "\n",
    "gp = GaussianProcessRegressor(\n",
    "    kernel=Matern(nu=2.5),\n",
    "    n_restarts_optimizer=2,\n",
    "    alpha=0.0000001,\n",
    "    random_state=2)\n",
    "\n",
    "f = lambda x: (x+0.5)**2+np.random.uniform()\n",
    "def target(x):\n",
    "    return np.exp(-(x - 2)**2) + np.exp(-(x - 6)**2/10) + 1/ (x**2 + 1)\n",
    "f=target\n",
    "\n",
    "X = test_x = np.array([np.random.uniform([10.]) for x in range(5)])\n",
    "\n",
    "Y = [f(x) for x in X]\n",
    "Ymean = np.mean(Y)\n",
    "Ystddev = np.std(Y)\n",
    "Ynorm = (Y-Ymean)/Ystddev\n",
    "gp.fit(X, Ynorm)\n",
    "gp.fit(X, Ynorm)\n",
    "\n",
    "test_x = np.array([np.random.uniform([10.]) for x in range(100)])\n",
    "#print(test_x)\n",
    "y_pred, y_std = gp.predict(test_x, return_std=True)\n",
    "y_f = f(test_x)\n",
    "y_fNorm = (y_f - Ymean)/Ystddev\n",
    "#print y_pred\n",
    "#print(np.shape(y_f))\n",
    "kappa = 5\n",
    "plt.plot(test_x, y_fNorm, 'bo')\n",
    "plt.plot(test_x, y_pred.flatten() + (kappa*y_std), 'go')\n",
    "plt.plot(test_x, y_pred.flatten() - (kappa*y_std), 'go')\n",
    "plt.plot(test_x, y_pred, 'ro')\n"
   ]
  },
  {
   "cell_type": "code",
   "execution_count": 266,
   "metadata": {},
   "outputs": [
    {
     "data": {
      "text/plain": [
       "0.08906527824694865"
      ]
     },
     "execution_count": 266,
     "metadata": {},
     "output_type": "execute_result"
    }
   ],
   "source": [
    "np.random.uniform()"
   ]
  },
  {
   "cell_type": "code",
   "execution_count": 445,
   "metadata": {},
   "outputs": [
    {
     "name": "stderr",
     "output_type": "stream",
     "text": [
      "/usr/local/lib/python2.7/site-packages/ipykernel_launcher.py:108: RuntimeWarning: divide by zero encountered in divide\n"
     ]
    },
    {
     "data": {
      "text/plain": [
       "(array([ 3.61118737]), 0.99411382908604007)"
      ]
     },
     "execution_count": 445,
     "metadata": {},
     "output_type": "execute_result"
    },
    {
     "data": {
      "image/png": "[encoded data removed]",
      "text/plain": [
       "<matplotlib.figure.Figure at 0x11c6fedd0>"
      ]
     },
     "metadata": {},
     "output_type": "display_data"
    }
   ],
   "source": [
    "def fit_normalized_gaussian_process(X, y, nu=2.5):\n",
    "    gp = GaussianProcessRegressor(\n",
    "        kernel=Matern(nu=nu),\n",
    "        n_restarts_optimizer=2,\n",
    "        alpha=0.0000001,\n",
    "        random_state=2)\n",
    "    \n",
    "    y_mean = np.mean(y)\n",
    "    y_stddev = np.std(y)\n",
    "    y_norm = (y-y_mean)/y_stddev\n",
    "\n",
    "    gp.fit(X, y_norm)\n",
    "    return gp, y_mean, y_stddev\n",
    "\n",
    "def sigmoid(x):  \n",
    "    return np.exp(-np.logaddexp(0, -x))\n",
    "\n",
    "def next_sample(sample_X, sample_y, X_bounds, current_X=None, kappa=4, nu=2.5, max_samples=100):\n",
    "    \"\"\"\n",
    "        Check out https://www.iro.umontreal.ca/~bengioy/cifar/NCAP2014-summerschool/slides/Ryan_adams_140814_bayesopt_ncap.pdf\n",
    "         for explanation of bayesian optimization\n",
    "         \n",
    "        nu - input to the Matern function, higher numbers make it smoother 0.5, 1.5, 2.5 are good values\n",
    "             see http://scikit-learn.org/stable/modules/generated/sklearn.gaussian_process.kernels.Matern.html\n",
    "        kappa - number of standard deviations to look at - higher means explore more, lower means exploit more\n",
    "        sample_X - vector of already evaluated sets of hyperparameters\n",
    "        sample_y - vector of already evaluated loss function values\n",
    "        current_X - hyperparameters currently being explored\n",
    "        max_samples - maximum samples to consider (since algo is O(n^3)) for performance, but also adds some randomness\n",
    "        X_bounds - minimum and maximum values for every dimension of X\n",
    "    \"\"\"\n",
    "    \n",
    "    sample_X = np.array(sample_X)\n",
    "    sample_y = np.array(sample_y)\n",
    "    \n",
    "    if kappa < 2:\n",
    "        raise ValueError(\"Kappa must be at least 2\")\n",
    "    \n",
    "    if len(np.array(sample_X).shape) != 2:\n",
    "        raise ValueError(\"Sample X must be a 2 dimensional array\")\n",
    "    \n",
    "    num_hyperparameters = sample_X.shape[1]\n",
    "    \n",
    "    if current_X != None:\n",
    "        current_X = np.array(current_X)\n",
    "        if len(current_X.shape) != 2:\n",
    "            raise ValueError(\"Current X must be a 2 dimensional array\")\n",
    "            \n",
    "        # we can't let the current samples be bigger than max samples\n",
    "        # because we need to use some real samples to build the curve\n",
    "        if current_X.shape[0] > max_samples - 5:\n",
    "            print(\"current_X is bigger than max samples - 5 so dropping some currently running parameters\")\n",
    "            current_X = current_X[(max_samples-5), :]\n",
    "        \n",
    "    if len(sample_y.shape) != 1:\n",
    "        raise ValueError(\"Sample y must be a 1 dimensional array\")    \n",
    "    \n",
    "    if sample_X.shape[0] != sample_y.shape[0]:\n",
    "        raise ValueError(\"Sample X and sample y must be the same size\")    \n",
    "\n",
    "    if sample_X.shape[1] != len(X_bounds):\n",
    "        raise ValueError(\"Bounds must be the same length as Sample X's second dimension\")\n",
    "        \n",
    "    if sample_X.shape[0] > max_samples:\n",
    "        sample_indices = np.random.randint(sample_X.shape[0], size=max_samples)\n",
    "        X = sample_X[sample_indices]\n",
    "        y = sample_y[sample_indices]\n",
    "    else:\n",
    "        X = sample_X\n",
    "        y = sample_y\n",
    "        \n",
    "    gp, y_mean, y_stddev = fit_normalized_gaussian_process(X,y)\n",
    "    \n",
    "    if current_X != None:\n",
    "        # if we have some hyperparameters running, we pretend that they return\n",
    "        # the prediction of the function we've fit\n",
    "        X = np.append(X, current_X, axis=0)\n",
    "        \n",
    "        current_y_fantasy = (gp.predict(current_X)*y_stddev)+y_mean\n",
    "        y = np.append(y, current_y_fantasy)\n",
    "     \n",
    "        gp, y_mean, y_stddev = fit_normalized_gaussian_process(X,y)\n",
    "        \n",
    "    num_test_samples = 1000\n",
    "    \n",
    "    # Look for the minimum value of our fitted-target-function + (kappa * fitted-target-std_dev)\n",
    "    test_X = np.empty((num_test_samples, num_hyperparameters))\n",
    "    \n",
    "    for ii in range(num_test_samples):\n",
    "        for jj in range(num_hyperparameters):\n",
    "            if type(X_bounds[jj][0]) == int:\n",
    "                assert(type(X_bounds[jj][1]) == int)\n",
    "                test_X[ii,jj] = np.random.randint(X_bounds[jj][0],X_bounds[jj][1])\n",
    "            else:\n",
    "                test_X[ii,jj] = np.random.uniform() * (X_bounds[jj][1] - X_bounds[jj][0]) + X_bounds[jj][0]\n",
    "\n",
    "    y_pred, y_std = gp.predict(test_X, return_std=True)\n",
    "    \n",
    "    # this would be the lowest score for a given kappa\n",
    "    # best_test_X_index = np.argmin(y_pred-kappa*y_std)\n",
    "    \n",
    "    #best chance of an improvement\n",
    "    improvement = 0.001\n",
    "    norm_improvement = improvement/y_stddev\n",
    "    min_norm_y = (np.min(y)-y_mean)/y_stddev # best value of y in our sample data\n",
    "    y_best=min_norm_y-norm_improvement\n",
    "    distance = (y_pred-y_best)\n",
    "    std_dev_distance = (y_pred-y_best)/y_std\n",
    "    \n",
    "    prob_of_improve = sigmoid(-std_dev_distance)\n",
    "    best_test_X_index = np.argmax(prob_of_improve)\n",
    "    \n",
    "    debug_plot = True\n",
    "    if debug_plot:\n",
    "        plt.plot(test_X[:,0], y_pred + (kappa*y_std), 'go')\n",
    "        plt.plot(test_X[:,0], y_pred - (kappa*y_std), 'go')\n",
    "        plt.plot(test_X[:,0], y_pred, 'ro')\n",
    "        plt.plot(X[:,0], ((y-y_mean)/y_stddev), 'b.')\n",
    "        plt.plot(test_X[:,0],np.clip(prob_of_improve, -100, 100.), 'y.')\n",
    "        #plt.plot(test_X[:,0], y_std*100, 'y.')\n",
    "\n",
    "\n",
    "    return test_X[best_test_X_index], prob_of_improve[best_test_X_index]\n",
    "        \n",
    "def target(x):\n",
    "    return np.exp(-(x - 2)**2) + np.exp(-(x - 6)**2/10) + 1/ (x**2 + 1)\n",
    "\n",
    "X = np.append(\n",
    "    np.array([np.random.uniform([0.], [5.]) for x in range(100)]),\n",
    "    np.array([np.random.uniform([0.], [5.]) for x in range(100)]),\n",
    "    axis = 0\n",
    ")\n",
    "\n",
    "#X = np.array([np.random.uniform([5.]) for x in range(200)])\n",
    "Y = np.array([f(x) for x in X]).flatten()\n",
    "next_sample(X, Y, [[-5., 5.]],max_samples=100)\n",
    "#next_sample([[1.],[2.],[3.]],[1.,4.,9.],[[1.,10.]], current_X=[[10.]])"
   ]
  },
  {
   "cell_type": "code",
   "execution_count": 450,
   "metadata": {},
   "outputs": [
    {
     "data": {
      "text/plain": [
       "0.71613235119406216"
      ]
     },
     "execution_count": 450,
     "metadata": {},
     "output_type": "execute_result"
    }
   ],
   "source": [
    "target(3.5)"
   ]
  },
  {
   "cell_type": "code",
   "execution_count": 297,
   "metadata": {},
   "outputs": [
    {
     "data": {
      "text/plain": [
       "array([[1, 2],\n",
       "       [2, 3],\n",
       "       [4, 5],\n",
       "       [6, 7]])"
      ]
     },
     "execution_count": 297,
     "metadata": {},
     "output_type": "execute_result"
    }
   ],
   "source": [
    "np.append(np.array([[1,2], [2,3]]),(np.array([[4,5],[6,7]])), axis=0)\n"
   ]
  },
  {
   "cell_type": "code",
   "execution_count": 452,
   "metadata": {},
   "outputs": [
    {
     "data": {
      "text/plain": [
       "[[1.0, 3.0],\n",
       " [1.0, 3.0],\n",
       " [1.0, 3.0],\n",
       " [1.0, 3.0],\n",
       " [1.0, 3.0],\n",
       " [1.0, 3.0],\n",
       " [1.0, 3.0],\n",
       " [1.0, 3.0],\n",
       " [1.0, 3.0],\n",
       " [1.0, 3.0]]"
      ]
     },
     "execution_count": 452,
     "metadata": {},
     "output_type": "execute_result"
    }
   ],
   "source": [
    "[[1.,3.]]*10"
   ]
  },
  {
   "cell_type": "code",
   "execution_count": 453,
   "metadata": {},
   "outputs": [
    {
     "data": {
      "text/plain": [
       "1.2911340918819019"
      ]
     },
     "execution_count": 453,
     "metadata": {},
     "output_type": "execute_result"
    }
   ],
   "source": [
    "np.random.uniform(2.0)"
   ]
  },
  {
   "cell_type": "code",
   "execution_count": 457,
   "metadata": {},
   "outputs": [
    {
     "data": {
      "text/plain": [
       "False"
      ]
     },
     "execution_count": 457,
     "metadata": {},
     "output_type": "execute_result"
    }
   ],
   "source": [
    "[] == None\n"
   ]
  },
  {
   "cell_type": "code",
   "execution_count": null,
   "metadata": {
    "collapsed": true
   },
   "outputs": [],
   "source": []
  }
 ],
 "metadata": {
  "kernelspec": {
   "display_name": "Python 2",
   "language": "python",
   "name": "python2"
  },
  "language_info": {
   "codemirror_mode": {
    "name": "ipython",
    "version": 2
   },
   "file_extension": ".py",
   "mimetype": "text/x-python",
   "name": "python",
   "nbconvert_exporter": "python",
   "pygments_lexer": "ipython2",
   "version": "2.7.11"
  }
 },
 "nbformat": 4,
 "nbformat_minor": 2
}
